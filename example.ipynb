{
 "cells": [
  {
   "cell_type": "code",
   "execution_count": 1,
   "metadata": {},
   "outputs": [],
   "source": [
    "import affspec\n",
    "import cv2\n",
    "import glob"
   ]
  },
  {
   "cell_type": "markdown",
   "metadata": {},
   "source": [
    "## Create a session\n",
    "The backbone can be either \"esp\" or \"mob\" or \"res\", where the default is \"esp\""
   ]
  },
  {
   "cell_type": "code",
   "execution_count": 2,
   "metadata": {},
   "outputs": [],
   "source": [
    "# %% Create a session\n",
    "session = affspec.pipeline.Process(backbone=\"esp\")"
   ]
  },
  {
   "cell_type": "markdown",
   "metadata": {},
   "source": [
    "## Process a numpy image\n",
    "It will detect the facial expression for the largest face in the image"
   ]
  },
  {
   "cell_type": "code",
   "execution_count": 3,
   "metadata": {},
   "outputs": [
    {
     "name": "stdout",
     "output_type": "stream",
     "text": [
      "{'expression': 'joy', 'expression confidence': 0.9627324938774109, 'valence': 0.5743317604064941, 'arousal': 0.12549209594726562, 'action units': [False, True, False, False, True, False, True, False, False, True, True, False]}\n"
     ]
    }
   ],
   "source": [
    "# First, read an image with OpenCV\n",
    "img = cv2.imread(\"images/beibin.jpg\")\n",
    "\n",
    "# Then, process the image\n",
    "rst = session.run_one_img(img)\n",
    "print(rst)\n"
   ]
  },
  {
   "cell_type": "code",
   "execution_count": 4,
   "metadata": {},
   "outputs": [
    {
     "name": "stdout",
     "output_type": "stream",
     "text": [
      "joy\n",
      "0.5743317604064941\n",
      "0.12549209594726562\n",
      "[False, True, False, False, True, False, True, False, False, True, True, False]\n",
      "Outer Brow Raiser , Cheek Raiser, Lip Corner Puller, Lips Part, Jaw Drop,\n"
     ]
    }
   ],
   "source": [
    "# You can access each value using the dictionary\n",
    "print(rst[\"expression\"])\n",
    "print(rst[\"valence\"])\n",
    "print(rst[\"arousal\"])\n",
    "print(rst[\"action units\"])\n",
    "\n",
    "\n",
    "# a more human-readable action units format\n",
    "au_description = affspec.config.au_array_2_description(rst[\"action units\"])\n",
    "print(au_description)"
   ]
  },
  {
   "cell_type": "markdown",
   "metadata": {},
   "source": [
    "## Process a image by passing an image path"
   ]
  },
  {
   "cell_type": "code",
   "execution_count": 5,
   "metadata": {},
   "outputs": [
    {
     "name": "stdout",
     "output_type": "stream",
     "text": [
      "{'expression': 'joy', 'expression confidence': 0.9627324938774109, 'valence': 0.5743317604064941, 'arousal': 0.12549209594726562, 'action units': [False, True, False, False, True, False, True, False, False, True, True, False], 'imgname': 'images/beibin.jpg'}\n"
     ]
    }
   ],
   "source": [
    "rst = session.run_one_img(imgname=\"images/beibin.jpg\")\n",
    "print(rst)\n"
   ]
  },
  {
   "cell_type": "markdown",
   "metadata": {},
   "source": [
    "## Result is None if no face is in the image"
   ]
  },
  {
   "cell_type": "code",
   "execution_count": 6,
   "metadata": {},
   "outputs": [
    {
     "name": "stdout",
     "output_type": "stream",
     "text": [
      "unable to get face 'NoneType' object is not iterable\n",
      "{'imgname': None, 'expression': None, 'expression confidence': None, 'valence': None, 'arousal': None, 'action units': None}\n"
     ]
    }
   ],
   "source": [
    "# %% If there is no face in the image. \n",
    "# The result will be None\n",
    "rst = session.run_one_img(imgname=\"images/no_face.jpg\")\n",
    "print(rst)"
   ]
  },
  {
   "cell_type": "markdown",
   "metadata": {},
   "source": [
    "## Process several images at one time\n",
    "The batch size can be any positive number. If you have a large GPU, you can use a large \"batch size\" so that the code can run faster."
   ]
  },
  {
   "cell_type": "code",
   "execution_count": 7,
   "metadata": {},
   "outputs": [
    {
     "name": "stdout",
     "output_type": "stream",
     "text": [
      "['images\\\\beibin.jpg', 'images\\\\deepali.jpg', 'images\\\\hard.jpg', 'images\\\\no_face.jpg', 'images\\\\sachin.jpg']\n",
      "unable to get face 'NoneType' object is not iterable\n"
     ]
    }
   ],
   "source": [
    "imgs = glob.glob(\"images/*.jpg\")\n",
    "print(imgs)\n",
    "\n",
    "rsts = session.run_imgs(imgs, batch_size=2)"
   ]
  },
  {
   "cell_type": "code",
   "execution_count": 9,
   "metadata": {},
   "outputs": [
    {
     "name": "stdout",
     "output_type": "stream",
     "text": [
      "-------------------------------------------------- \n",
      "\n",
      "{'expression': 'joy', 'expression confidence': 0.9627324938774109, 'valence': 0.5743317604064941, 'arousal': 0.12549209594726562, 'action units': [False, True, False, False, True, False, True, False, False, True, True, False], 'imgname': 'images\\\\beibin.jpg'}\n",
      "{'expression': 'joy', 'expression confidence': 0.5346980094909668, 'valence': 0.018298029899597168, 'arousal': 0.3244672119617462, 'action units': [False, False, False, False, False, False, True, False, False, True, False, False], 'imgname': 'images\\\\deepali.jpg'}\n",
      "{'expression': 'fear', 'expression confidence': 0.40059182047843933, 'valence': 0.0037459731101989746, 'arousal': 0.7171857357025146, 'action units': [False, False, False, False, False, False, False, False, False, True, False, True], 'imgname': 'images\\\\hard.jpg'}\n",
      "{'imgname': 'images\\\\no_face.jpg', 'expression': None, 'expression confidence': None, 'valence': None, 'arousal': None, 'action units': None}\n",
      "{'expression': 'joy', 'expression confidence': 0.7923265099525452, 'valence': 0.27661481499671936, 'arousal': 0.2786516547203064, 'action units': [True, False, False, False, True, False, True, False, False, True, True, False], 'imgname': 'images\\\\sachin.jpg'}\n"
     ]
    }
   ],
   "source": [
    "print(\"-\" * 50, \"\\n\")\n",
    "for _ in rsts:\n",
    "    print(_)"
   ]
  }
 ],
 "metadata": {
  "kernelspec": {
   "display_name": "Python 3",
   "language": "python",
   "name": "python3"
  },
  "language_info": {
   "codemirror_mode": {
    "name": "ipython",
    "version": 3
   },
   "file_extension": ".py",
   "mimetype": "text/x-python",
   "name": "python",
   "nbconvert_exporter": "python",
   "pygments_lexer": "ipython3",
   "version": "3.6.7"
  }
 },
 "nbformat": 4,
 "nbformat_minor": 2
}
